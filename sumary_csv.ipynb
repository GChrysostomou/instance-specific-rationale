{
 "cells": [
  {
   "cell_type": "code",
   "execution_count": 4,
   "metadata": {},
   "outputs": [],
   "source": [
    "import pandas as pd\n",
    "from pickle import NONE\n",
    "from re import T\n",
    "import pandas as pd\n",
    "import json\n",
    "import glob\n",
    "import os \n",
    "import argparse\n",
    "import logging\n",
    "import numpy as np\n",
    "import pickle "
   ]
  },
  {
   "cell_type": "code",
   "execution_count": 5,
   "metadata": {},
   "outputs": [],
   "source": [
    "with open('results_summary.pkl', 'rb') as f:\n",
    "    loaded_dict = pickle.load(f)"
   ]
  },
  {
   "cell_type": "code",
   "execution_count": 8,
   "metadata": {},
   "outputs": [
    {
     "name": "stdout",
     "output_type": "stream",
     "text": [
      " \n",
      "ChnSentiCorp\n",
      "mbert\n",
      "{'Attention_Suff': 1.0902327957363036, 'Scaled_Attention_Suff': 1.0884435049783747, 'Gradients_Suff': 1.0483311770328323, 'Integrated_Gradients_Suff': 1.1026349831942344, 'Deeplift_Suff': 1.025998869133796, 'Attention_Comp': 1.3710924885883555, 'Scaled_Attention_Comp': 1.3789226438370283, 'Gradients_Comp': 1.156845532531631, 'Integrated_Gradients_Comp': 1.3241123432705728, 'Deeplift_Comp': 1.1598957879910066, 'Accuracy': 0.8577777777777771}\n",
      "zhbert\n",
      "{'Attention_Suff': 1.1186359490734263, 'Scaled_Attention_Suff': 1.1236845435293923, 'Gradients_Suff': 0.9976570862899498, 'Integrated_Gradients_Suff': 1.0772416350726395, 'Deeplift_Suff': 0.9511550052472773, 'Attention_Comp': 1.1876611990674635, 'Scaled_Attention_Comp': 1.1801661231830363, 'Gradients_Comp': 1.0394625200358314, 'Integrated_Gradients_Comp': 1.2453264958711667, 'Deeplift_Comp': 1.0270209744638243, 'Accuracy': 0.901944444444444}\n",
      "macbert\n",
      "{'Attention_Suff': 1.1122814556447151, 'Scaled_Attention_Suff': 1.1125499423523266, 'Gradients_Suff': 0.9963475341942042, 'Integrated_Gradients_Suff': 1.0640569513428195, 'Deeplift_Suff': 0.9854040891642601, 'Attention_Comp': 1.2308610402184026, 'Scaled_Attention_Comp': 1.2283784141257583, 'Gradients_Comp': 1.0676890567164459, 'Integrated_Gradients_Comp': 1.177746799422861, 'Deeplift_Comp': 1.024743013945636, 'Accuracy': 0.9119444444444442}\n",
      "xlm_roberta\n",
      "{'Attention_Suff': 1.0362670022623193, 'Scaled_Attention_Suff': 1.0438528415303818, 'Gradients_Suff': 1.0352134211172692, 'Integrated_Gradients_Suff': 1.0105025424671388, 'Deeplift_Suff': 1.0231240681495706, 'Attention_Comp': 0.835423863402084, 'Scaled_Attention_Comp': 0.832508209594846, 'Gradients_Comp': 1.0052723427963992, 'Integrated_Gradients_Comp': 1.0383108812729012, 'Deeplift_Comp': 0.9857282003752925, 'Accuracy': 0.904999999999999}\n",
      "chinese_roberta\n",
      "{'Attention_Suff': 1.2077615094158674, 'Scaled_Attention_Suff': 1.197201305433269, 'Gradients_Suff': 1.0852296321172212, 'Integrated_Gradients_Suff': 1.2405948474855697, 'Deeplift_Suff': 1.094614465259573, 'Attention_Comp': 1.0775000545100044, 'Scaled_Attention_Comp': 1.0830489984189435, 'Gradients_Comp': 1.1097883259072419, 'Integrated_Gradients_Comp': 1.3698156574893492, 'Deeplift_Comp': 1.1278408373195472, 'Accuracy': 0.908333333333333}\n"
     ]
    },
    {
     "name": "stderr",
     "output_type": "stream",
     "text": [
      "/tmp/ipykernel_70475/1806922655.py:16: FutureWarning: The default dtype for empty Series will be 'object' instead of 'float64' in a future version. Specify a dtype explicitly to silence this warning.\n",
      "  new_row = pd.Series(pd.Series(), index=result.columns)\n",
      "/tmp/ipykernel_70475/1806922655.py:17: FutureWarning: The frame.append method is deprecated and will be removed from pandas in a future version. Use pandas.concat instead.\n",
      "  result = result.append(new_row)\n"
     ]
    },
    {
     "ename": "TypeError",
     "evalue": "Can only append a Series if ignore_index=True or if the Series has a name",
     "output_type": "error",
     "traceback": [
      "\u001b[0;31m---------------------------------------------------------------------------\u001b[0m",
      "\u001b[0;31mTypeError\u001b[0m                                 Traceback (most recent call last)",
      "Cell \u001b[0;32mIn[8], line 17\u001b[0m\n\u001b[1;32m     15\u001b[0m result[\u001b[39m'\u001b[39m\u001b[39mdataset\u001b[39m\u001b[39m'\u001b[39m] \u001b[39m=\u001b[39m data\n\u001b[1;32m     16\u001b[0m new_row \u001b[39m=\u001b[39m pd\u001b[39m.\u001b[39mSeries(pd\u001b[39m.\u001b[39mSeries(), index\u001b[39m=\u001b[39mresult\u001b[39m.\u001b[39mcolumns)\n\u001b[0;32m---> 17\u001b[0m result \u001b[39m=\u001b[39m result\u001b[39m.\u001b[39;49mappend(new_row)\n\u001b[1;32m     19\u001b[0m \u001b[39mprint\u001b[39m(result)\n\u001b[1;32m     20\u001b[0m data_df_list\u001b[39m.\u001b[39mappend(result)\n",
      "File \u001b[0;32m~/anaconda3/envs/eva/lib/python3.11/site-packages/pandas/core/frame.py:9768\u001b[0m, in \u001b[0;36mDataFrame.append\u001b[0;34m(self, other, ignore_index, verify_integrity, sort)\u001b[0m\n\u001b[1;32m   9665\u001b[0m \u001b[39m\u001b[39m\u001b[39m\"\"\"\u001b[39;00m\n\u001b[1;32m   9666\u001b[0m \u001b[39mAppend rows of `other` to the end of caller, returning a new object.\u001b[39;00m\n\u001b[1;32m   9667\u001b[0m \n\u001b[0;32m   (...)\u001b[0m\n\u001b[1;32m   9758\u001b[0m \u001b[39m4  4\u001b[39;00m\n\u001b[1;32m   9759\u001b[0m \u001b[39m\"\"\"\u001b[39;00m\n\u001b[1;32m   9760\u001b[0m warnings\u001b[39m.\u001b[39mwarn(\n\u001b[1;32m   9761\u001b[0m     \u001b[39m\"\u001b[39m\u001b[39mThe frame.append method is deprecated \u001b[39m\u001b[39m\"\u001b[39m\n\u001b[1;32m   9762\u001b[0m     \u001b[39m\"\u001b[39m\u001b[39mand will be removed from pandas in a future version. \u001b[39m\u001b[39m\"\u001b[39m\n\u001b[0;32m   (...)\u001b[0m\n\u001b[1;32m   9765\u001b[0m     stacklevel\u001b[39m=\u001b[39mfind_stack_level(),\n\u001b[1;32m   9766\u001b[0m )\n\u001b[0;32m-> 9768\u001b[0m \u001b[39mreturn\u001b[39;00m \u001b[39mself\u001b[39;49m\u001b[39m.\u001b[39;49m_append(other, ignore_index, verify_integrity, sort)\n",
      "File \u001b[0;32m~/anaconda3/envs/eva/lib/python3.11/site-packages/pandas/core/frame.py:9783\u001b[0m, in \u001b[0;36mDataFrame._append\u001b[0;34m(self, other, ignore_index, verify_integrity, sort)\u001b[0m\n\u001b[1;32m   9781\u001b[0m     other \u001b[39m=\u001b[39m Series(other)\n\u001b[1;32m   9782\u001b[0m \u001b[39mif\u001b[39;00m other\u001b[39m.\u001b[39mname \u001b[39mis\u001b[39;00m \u001b[39mNone\u001b[39;00m \u001b[39mand\u001b[39;00m \u001b[39mnot\u001b[39;00m ignore_index:\n\u001b[0;32m-> 9783\u001b[0m     \u001b[39mraise\u001b[39;00m \u001b[39mTypeError\u001b[39;00m(\n\u001b[1;32m   9784\u001b[0m         \u001b[39m\"\u001b[39m\u001b[39mCan only append a Series if ignore_index=True \u001b[39m\u001b[39m\"\u001b[39m\n\u001b[1;32m   9785\u001b[0m         \u001b[39m\"\u001b[39m\u001b[39mor if the Series has a name\u001b[39m\u001b[39m\"\u001b[39m\n\u001b[1;32m   9786\u001b[0m     )\n\u001b[1;32m   9788\u001b[0m index \u001b[39m=\u001b[39m Index([other\u001b[39m.\u001b[39mname], name\u001b[39m=\u001b[39m\u001b[39mself\u001b[39m\u001b[39m.\u001b[39mindex\u001b[39m.\u001b[39mname)\n\u001b[1;32m   9789\u001b[0m row_df \u001b[39m=\u001b[39m other\u001b[39m.\u001b[39mto_frame()\u001b[39m.\u001b[39mT\n",
      "\u001b[0;31mTypeError\u001b[0m: Can only append a Series if ignore_index=True or if the Series has a name"
     ]
    }
   ],
   "source": [
    "data_df_list = []\n",
    "\n",
    "for data in loaded_dict.keys():\n",
    "     df_list = []\n",
    "     print(' ')\n",
    "     print(data)\n",
    "     for model in loaded_dict[data].keys():\n",
    "          print(model)\n",
    "          print(loaded_dict[data][model])\n",
    "          df = pd.DataFrame.from_dict(loaded_dict[data][model], orient='index', columns=[model])\n",
    "          df = df.transpose()\n",
    "          df['model'] = model\n",
    "          df_list.append(df)\n",
    "     result = pd.concat(df_list)\n",
    "     result['dataset'] = data\n",
    "     # new_row = pd.Series(pd.Series(), index=result.columns)\n",
    "     # result = result.append(new_row)\n",
    "\n",
    "     print(result)\n",
    "     data_df_list.append(result)\n",
    "\n",
    "result = pd.concat(data_df_list)\n",
    "result.insert(0, 'model', result.pop('model'))\n",
    "result = result.set_index('dataset',drop=True).round(3)\n",
    "\n",
    "result.to_csv('summary.csv')"
   ]
  },
  {
   "cell_type": "markdown",
   "metadata": {},
   "source": []
  }
 ],
 "metadata": {
  "kernelspec": {
   "display_name": "eva",
   "language": "python",
   "name": "python3"
  },
  "language_info": {
   "codemirror_mode": {
    "name": "ipython",
    "version": 3
   },
   "file_extension": ".py",
   "mimetype": "text/x-python",
   "name": "python",
   "nbconvert_exporter": "python",
   "pygments_lexer": "ipython3",
   "version": "3.11.0"
  },
  "orig_nbformat": 4
 },
 "nbformat": 4,
 "nbformat_minor": 2
}
