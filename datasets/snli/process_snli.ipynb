{
 "cells": [
  {
   "cell_type": "code",
   "execution_count": null,
   "metadata": {},
   "outputs": [],
   "source": [
    "!wget -nc https://nlp.stanford.edu/projects/snli/snli_1.0.zip\n",
    "!unzip snli_1.0.zip\n",
    "!rm snli_1.0.zip"
   ]
  },
  {
   "cell_type": "code",
   "execution_count": null,
   "metadata": {},
   "outputs": [],
   "source": [
    "import numpy as np\n",
    "import matplotlib.pyplot as plt"
   ]
  },
  {
   "cell_type": "code",
   "execution_count": null,
   "metadata": {},
   "outputs": [],
   "source": [
    "keys = ['train', 'test', 'dev']"
   ]
  },
  {
   "cell_type": "code",
   "execution_count": null,
   "metadata": {},
   "outputs": [],
   "source": [
    "import json"
   ]
  },
  {
   "cell_type": "code",
   "execution_count": null,
   "metadata": {},
   "outputs": [],
   "source": [
    "data = {k:[] for k in keys}\n",
    "for k in keys :\n",
    "    for line in open('snli_1.0/snli_1.0_' + k + '.jsonl').readlines() :\n",
    "        data[k].append(json.loads(line))"
   ]
  },
  {
   "cell_type": "code",
   "execution_count": null,
   "metadata": {},
   "outputs": [],
   "source": [
    "import spacy\n",
    "nlp = spacy.load(\"en_core_web_sm\")\n",
    "from tqdm import tqdm\n",
    "import pandas as pd\n",
    "\n",
    "def collect_data(docs, exp_split):\n",
    "    \n",
    "    annotations = []\n",
    "    \n",
    "    labels = {\"contradiction\":0, \"neutral\":1, \"entailment\":2}\n",
    "    \n",
    "    cur_caption = None\n",
    "    \n",
    "    for doc in tqdm(docs) :\n",
    "        \n",
    "        if doc[\"gold_label\"] in labels:\n",
    "            \n",
    "            if doc[\"captionID\"] == cur_caption:\n",
    "                \n",
    "                _i += 1\n",
    "                \n",
    "            else:\n",
    "                \n",
    "                _i = 0\n",
    "                \n",
    "            cur_caption = doc[\"captionID\"]\n",
    "            \n",
    "            document = doc[\"sentence1\"]\n",
    "            query = doc[\"sentence2\"]\n",
    "    \n",
    "            annotations.append({\n",
    "                'annotation_id' : doc[\"captionID\"] + \"_\" + str(_i),\n",
    "                'doc_id' : doc[\"captionID\"], \n",
    "                'document' : document,\n",
    "                'label_id' : doc[\"gold_label\"],\n",
    "                'label' : labels[doc[\"gold_label\"]],\n",
    "                'query' : query,\n",
    "                'exp_split' : exp_split\n",
    "            })\n",
    "    \n",
    "    \n",
    "    return pd.DataFrame(annotations)"
   ]
  },
  {
   "cell_type": "code",
   "execution_count": null,
   "metadata": {},
   "outputs": [],
   "source": [
    "train = collect_data(data[\"train\"], \"train\")\n",
    "dev = collect_data(data[\"dev\"], \"dev\")\n",
    "test = collect_data(data[\"test\"], \"test\")\n",
    "\n",
    "len(train), len(dev), len(test)"
   ]
  },
  {
   "cell_type": "code",
   "execution_count": null,
   "metadata": {},
   "outputs": [],
   "source": [
    "train[\"lengths\"] = train[\"query\"].apply(lambda x : len(x.split()))\n",
    "dev[\"lengths\"] = dev[\"query\"].apply(lambda x : len(x.split()))\n",
    "test[\"lengths\"] = test[\"query\"].apply(lambda x : len(x.split()))"
   ]
  },
  {
   "cell_type": "code",
   "execution_count": null,
   "metadata": {},
   "outputs": [],
   "source": [
    "train = train[train[\"lengths\"] > 1].drop(columns = \"lengths\")\n",
    "dev = dev[dev[\"lengths\"] > 1].drop(columns = \"lengths\")\n",
    "test = test[test[\"lengths\"] > 1].drop(columns = \"lengths\")"
   ]
  },
  {
   "cell_type": "code",
   "execution_count": null,
   "metadata": {},
   "outputs": [],
   "source": [
    "len(train), len(dev), len(test)"
   ]
  },
  {
   "cell_type": "code",
   "execution_count": null,
   "metadata": {},
   "outputs": [],
   "source": [
    "import os\n",
    "os.makedirs('data', exist_ok=True)\n",
    "train.to_csv(\"data/train.csv\", index = False)\n",
    "dev.to_csv(\"data/dev.csv\", index = False)\n",
    "test.to_csv(\"data/test.csv\", index = False)"
   ]
  },
  {
   "cell_type": "code",
   "execution_count": null,
   "metadata": {},
   "outputs": [],
   "source": [
    "!rm -r __MACOSX/\n",
    "!rm -r snli_1.0/"
   ]
  }
 ],
 "metadata": {
  "kernelspec": {
   "display_name": "Python 3",
   "language": "python",
   "name": "python3"
  },
  "language_info": {
   "codemirror_mode": {
    "name": "ipython",
    "version": 3
   },
   "file_extension": ".py",
   "mimetype": "text/x-python",
   "name": "python",
   "nbconvert_exporter": "python",
   "pygments_lexer": "ipython3",
   "version": "3.7.4"
  }
 },
 "nbformat": 4,
 "nbformat_minor": 2
}
