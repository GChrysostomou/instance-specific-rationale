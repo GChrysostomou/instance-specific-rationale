{
 "cells": [
  {
   "cell_type": "code",
   "execution_count": 1,
   "metadata": {
    "scrolled": true
   },
   "outputs": [
    {
     "name": "stdout",
     "output_type": "stream",
     "text": [
      "--2020-10-23 10:37:23--  https://download.microsoft.com/download/D/4/6/D46FF87A-F6B9-4252-AA8B-3604ED519838/MSRParaphraseCorpus.msi\n",
      "Resolving download.microsoft.com (download.microsoft.com)... 184.26.148.129, 2a02:26f0:ec:28c::e59, 2a02:26f0:ec:280::e59\n",
      "Connecting to download.microsoft.com (download.microsoft.com)|184.26.148.129|:443... connected.\n",
      "HTTP request sent, awaiting response... 200 OK\n",
      "Length: 1359872 (1.3M) [application/octet-stream]\n",
      "Saving to: ‘MSRParaphraseCorpus.msi’\n",
      "\n",
      "MSRParaphraseCorpus 100%[===================>]   1.30M  --.-KB/s    in 0.05s   \n",
      "\n",
      "2020-10-23 10:37:23 (24.0 MB/s) - ‘MSRParaphraseCorpus.msi’ saved [1359872/1359872]\n",
      "\n",
      "mkdir: cannot create directory ‘MRPC’: File exists\n",
      "Extracting cabinet: MSRParaphraseCorpus.msi\n",
      "  extracting MRPC/_2D65ED66D69C42A28B021C3E24C1D8C0\n",
      "  extracting MRPC/_2DEC3DBE877E4DB192D17C0256E90F1D\n",
      "  extracting MRPC/_63DE49D9E7214609BE7E38DD145D8081\n",
      "  extracting MRPC/_B3CFEFE1C368459BA1D1B8A2FA07A16D\n",
      "  extracting MRPC/_C5BC91AAB1554DF3AF5E4105DE57C85A\n",
      "  extracting MRPC/_D18B15DC041F43D7925309EFFCFE0236\n",
      "  extracting MRPC/_D7B391F9EAFF4B1B8BCE8F21B20B1B61\n",
      "\n",
      "All done, no errors.\n",
      "File ‘MRPC/data%2Fmrpc_dev_ids.tsv?alt=media&token=ec5c0836-31d5-48f4-b431-7480817f1adc’ already there; not retrieving.\n",
      "\n"
     ]
    }
   ],
   "source": [
    "!wget -nc \"https://download.microsoft.com/download/D/4/6/D46FF87A-F6B9-4252-AA8B-3604ED519838/MSRParaphraseCorpus.msi\"\n",
    "!mkdir MRPC\n",
    "!cabextract MSRParaphraseCorpus.msi -d MRPC\n",
    "!cat MRPC/_2DEC3DBE877E4DB192D17C0256E90F1D | tr -d $'\\r' > MRPC/msr_paraphrase_train.txt\n",
    "!cat MRPC/_D7B391F9EAFF4B1B8BCE8F21B20B1B61 | tr -d $'\\r' > MRPC/msr_paraphrase_test.txt\n",
    "!rm MRPC/_*\n",
    "!rm MSRParaphraseCorpus.msi\n",
    "\n",
    "## dev ids from glue\n",
    "\n",
    "!wget -nc 'https://firebasestorage.googleapis.com/v0/b/mtl-sentence-representations.appspot.com/o/data%2Fmrpc_dev_ids.tsv?alt=media&token=ec5c0836-31d5-48f4-b431-7480817f1adc' -P MRPC/"
   ]
  },
  {
   "cell_type": "code",
   "execution_count": 2,
   "metadata": {},
   "outputs": [],
   "source": [
    "import pandas as pd\n",
    "\n",
    "\n",
    "def get_as_csv(path_to_data):\n",
    "    all_data = []\n",
    "\n",
    "    with open(path_to_data, \"r\", encoding = 'utf-8-sig') as f:\n",
    "\n",
    "        for _id, line in enumerate(f):\n",
    "\n",
    "            if _id == 0:\n",
    "\n",
    "                headers = line.split(\"\\t\")\n",
    "            \n",
    "            else:\n",
    "                \n",
    "                line = line.split(\"\\t\")\n",
    "\n",
    "                all_data.append({\n",
    "                    headers[0] : line[0],\n",
    "                    headers[1] : line[1],\n",
    "                    headers[2] : line[2],\n",
    "                    headers[3] : line[3],\n",
    "                    headers[4] : line[4]    \n",
    "                })\n",
    "            \n",
    "    return pd.DataFrame(all_data)"
   ]
  },
  {
   "cell_type": "code",
   "execution_count": 3,
   "metadata": {},
   "outputs": [],
   "source": [
    "train = get_as_csv(\"MRPC/msr_paraphrase_train.txt\")\n",
    "test = get_as_csv(\"MRPC/msr_paraphrase_test.txt\")"
   ]
  },
  {
   "cell_type": "code",
   "execution_count": 4,
   "metadata": {},
   "outputs": [],
   "source": [
    "def retrieve_dev(path_to_ids, train_pd):\n",
    "    \n",
    "    train_pd[\"id_pairs\"] = train_pd.apply(lambda x: x[\"#1 ID\"] + \"_\" + x[\"#2 ID\"], axis = 1)\n",
    "    \n",
    "    ids_list = []\n",
    "    \n",
    "    with open(path_to_ids, \"r\", encoding = 'utf-8-sig') as f:\n",
    "        \n",
    "        for _id, line in enumerate(f):\n",
    "            \n",
    "            line = line.split(\"\\t\")\n",
    "            \n",
    "            id_1 = line[0]\n",
    "            id_2 = line[1].strip()\n",
    "            \n",
    "            ids_list.append(id_1 + \"_\" + id_2)\n",
    "            \n",
    "    dev_pd = train_pd[train_pd.id_pairs.isin(ids_list)]\n",
    "    train_new = train_pd[~train_pd.id_pairs.isin(ids_list)]\n",
    "    \n",
    "    assert len(train_new) + len(dev_pd) == len(train_pd)\n",
    "    \n",
    "    return train_new, dev_pd\n",
    "    \n",
    "train, dev = retrieve_dev(\"MRPC/data%2Fmrpc_dev_ids.tsv?alt=media&token=ec5c0836-31d5-48f4-b431-7480817f1adc\", train)"
   ]
  },
  {
   "cell_type": "code",
   "execution_count": 5,
   "metadata": {},
   "outputs": [],
   "source": [
    "def process_for_pipeline(df, exp_split):\n",
    "    \n",
    "    label_pairs = {\"0\":\"semantic equivalence\", \"1\":\"paraphrase\"}\n",
    "    \n",
    "    if \"id_pairs\" not in df.columns:\n",
    "        \n",
    "        df[\"id_pairs\"] = df.apply(lambda x: x[\"#1 ID\"] + \"_\" + x[\"#2 ID\"], axis = 1)\n",
    "    \n",
    "    df = df.rename(columns = {\n",
    "        \"#1 ID\" : \"doc_id\",\n",
    "        \"id_pairs\" : \"annotation_id\",\n",
    "        \"#1 String\" : \"document\",\n",
    "        \"#2 String\\n\" : \"query\",\n",
    "        \"Quality\" : \"label\"\n",
    "    })\n",
    "    \n",
    "    df = df.drop(columns = \"#2 ID\")\n",
    "    df[\"label_id\"] = df.label.apply(lambda x : label_pairs[x])\n",
    "    df[\"exp_split\"] = exp_split\n",
    "\n",
    "    return df\n",
    "\n",
    "train = process_for_pipeline(train, \"train\")\n",
    "dev = process_for_pipeline(dev, \"dev\")\n",
    "test = process_for_pipeline(test, \"test\")"
   ]
  },
  {
   "cell_type": "code",
   "execution_count": 6,
   "metadata": {},
   "outputs": [],
   "source": [
    "import os\n",
    "os.makedirs('data', exist_ok=True)\n",
    "train.to_csv(\"data/train.csv\", index = False)\n",
    "dev.to_csv(\"data/dev.csv\", index = False)\n",
    "test.to_csv(\"data/test.csv\", index = False)"
   ]
  }
 ],
 "metadata": {
  "kernelspec": {
   "display_name": "Python 3",
   "language": "python",
   "name": "python3"
  },
  "language_info": {
   "codemirror_mode": {
    "name": "ipython",
    "version": 3
   },
   "file_extension": ".py",
   "mimetype": "text/x-python",
   "name": "python",
   "nbconvert_exporter": "python",
   "pygments_lexer": "ipython3",
   "version": "3.7.4"
  }
 },
 "nbformat": 4,
 "nbformat_minor": 2
}
