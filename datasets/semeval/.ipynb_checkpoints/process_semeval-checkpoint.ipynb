{
 "cells": [
  {
   "cell_type": "markdown",
   "metadata": {},
   "source": [
    "Downloaded from : https://alt.qcri.org/semeval2017/task4/?id=download-the-full-training-data-for-semeval-2017-task-4"
   ]
  },
  {
   "cell_type": "code",
   "execution_count": 1,
   "metadata": {},
   "outputs": [],
   "source": [
    "import pandas as pd\n",
    "import re"
   ]
  },
  {
   "cell_type": "code",
   "execution_count": 2,
   "metadata": {},
   "outputs": [],
   "source": [
    "def read_pandas(file_path, exp_split):\n",
    "\n",
    "    file = open(file_path, \"r\")\n",
    "    all_data = []\n",
    "    for line in file.readlines():\n",
    "\n",
    "        line = line.split(\"\\t\")\n",
    "\n",
    "        doc_id = line[0]\n",
    "        label_id = line[1]\n",
    "        text = line[-1]\n",
    "        text = re.sub(r\"@\\w+\", \"@user\", text).rstrip()\n",
    "        text = re.sub(r\"#\\w+\", \"@hashtag\", text).rstrip()\n",
    "        text = re.sub(r'http[s]?://(?:[a-zA-Z]|[0-9]|[$-_@.&+]|[!*\\(\\),]|(?:%[0-9a-fA-F][0-9a-fA-F]))+', \n",
    "                      \"@url\", text)\n",
    "        \n",
    "        if label_id == \"\\n\":\n",
    "            \n",
    "            print(\"invalid label\")\n",
    "        \n",
    "        else:\n",
    "        \n",
    "            all_data.append({\n",
    "                \"text\" : text,\n",
    "                \"label_id\" : label_id,\n",
    "                \"doc_id\" : doc_id,\n",
    "                \"annotation_id\" : \"an_\" + str(doc_id),\n",
    "                \"exp_split\" : exp_split\n",
    "            })\n",
    "\n",
    "\n",
    "    return pd.DataFrame(all_data)\n"
   ]
  },
  {
   "cell_type": "code",
   "execution_count": 3,
   "metadata": {},
   "outputs": [
    {
     "name": "stdout",
     "output_type": "stream",
     "text": [
      "invalid label\n"
     ]
    }
   ],
   "source": [
    "train = read_pandas(\n",
    "    file_path = \"2017_English_final/2017_English_final/GOLD/Subtask_A/twitter-2013train-A.txt\",\n",
    "    exp_split = \"train\"\n",
    ")\n",
    "\n",
    "dev = read_pandas(\n",
    "    file_path = \"2017_English_final/2017_English_final/GOLD/Subtask_A/twitter-2013dev-A.txt\",\n",
    "    exp_split = \"dev\"\n",
    ")\n",
    "\n",
    "test = read_pandas(\n",
    "    file_path = \"2017_English_final/2017_English_final/GOLD/Subtask_A/twitter-2013test-A.txt\",\n",
    "    exp_split = \"test\"\n",
    ")"
   ]
  },
  {
   "cell_type": "code",
   "execution_count": 4,
   "metadata": {},
   "outputs": [],
   "source": [
    "label_allocator = {v:k for k,v in dict(enumerate(train.label_id.unique())).items()}"
   ]
  },
  {
   "cell_type": "code",
   "execution_count": 5,
   "metadata": {},
   "outputs": [],
   "source": [
    "train[\"label\"] = train.label_id.apply(lambda x: label_allocator[x])\n",
    "dev[\"label\"] = dev.label_id.apply(lambda x: label_allocator[x])\n",
    "test[\"label\"] = test.label_id.apply(lambda x: label_allocator[x])"
   ]
  },
  {
   "cell_type": "code",
   "execution_count": 6,
   "metadata": {},
   "outputs": [],
   "source": [
    "import os\n",
    "os.makedirs('data', exist_ok=True)\n",
    "train.to_csv(\"data/train.csv\", index = False)\n",
    "dev.to_csv(\"data/dev.csv\", index = False)\n",
    "test.to_csv(\"data/test.csv\", index = False)"
   ]
  }
 ],
 "metadata": {
  "kernelspec": {
   "display_name": "Python 3",
   "language": "python",
   "name": "python3"
  },
  "language_info": {
   "codemirror_mode": {
    "name": "ipython",
    "version": 3
   },
   "file_extension": ".py",
   "mimetype": "text/x-python",
   "name": "python",
   "nbconvert_exporter": "python",
   "pygments_lexer": "ipython3",
   "version": "3.8.3"
  }
 },
 "nbformat": 4,
 "nbformat_minor": 4
}
