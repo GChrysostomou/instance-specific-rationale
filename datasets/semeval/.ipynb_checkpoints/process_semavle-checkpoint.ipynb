{
 "cells": [
  {
   "cell_type": "code",
   "execution_count": 1,
   "metadata": {},
   "outputs": [
    {
     "name": "stdout",
     "output_type": "stream",
     "text": [
      "--2020-11-03 16:01:57--  http://www.cs.cornell.edu/people/pabo/movie-review-data/rotten_imdb.tar.gz\n",
      "Resolving www.cs.cornell.edu (www.cs.cornell.edu)... 52.201.128.190\n",
      "Connecting to www.cs.cornell.edu (www.cs.cornell.edu)|52.201.128.190|:80... connected.\n",
      "HTTP request sent, awaiting response... 200 OK\n",
      "Length: 519599 (507K) [application/x-gzip]\n",
      "Saving to: ‘data/rotten_imdb.tar.gz’\n",
      "\n",
      "rotten_imdb.tar.gz  100%[===================>] 507.42K   216KB/s    in 2.3s    \n",
      "\n",
      "2020-11-03 16:02:00 (216 KB/s) - ‘data/rotten_imdb.tar.gz’ saved [519599/519599]\n",
      "\n",
      "quote.tok.gt9.5000\n",
      "plot.tok.gt9.5000\n",
      "subjdata.README.1.0\n"
     ]
    }
   ],
   "source": [
    "!wget -nc http://www.cs.cornell.edu/people/pabo/movie-review-data/rotten_imdb.tar.gz -P data/\n",
    "!tar -xvf data/rotten_imdb.tar.gz -C data/\n",
    "!rm data/rotten_imdb.tar.gz"
   ]
  },
  {
   "cell_type": "code",
   "execution_count": 2,
   "metadata": {},
   "outputs": [],
   "source": [
    "import pandas as pd\n",
    "\n",
    "subj = open(\"data/quote.tok.gt9.5000\", \"r\", encoding = 'latin-1')\n",
    "obj = open(\"data/plot.tok.gt9.5000\", \"r\", encoding = 'latin-1')"
   ]
  },
  {
   "cell_type": "code",
   "execution_count": 3,
   "metadata": {},
   "outputs": [],
   "source": [
    "all_data = []\n",
    "\n",
    "doc_id = 0\n",
    "\n",
    "for line in subj.readlines():\n",
    "    \n",
    "    all_data.append({\n",
    "        \"text\" : line,\n",
    "        \"label_id\" : \"subjective\",\n",
    "        \"label\" : 1,\n",
    "        \"doc_id\" : doc_id,\n",
    "        \"annotation_id\" : \"subj_\" + str(doc_id)       \n",
    "    })\n",
    "    \n",
    "    doc_id += 1\n",
    "    \n",
    "for line in obj.readlines():\n",
    "    \n",
    "    all_data.append({\n",
    "        \"text\" : line,\n",
    "        \"label_id\" : \"objective\",\n",
    "        \"label\" : 0,\n",
    "        \"doc_id\" : doc_id,\n",
    "        \"annotation_id\" : \"subj_\" + str(doc_id)       \n",
    "    })\n",
    "    \n",
    "    doc_id += 1\n",
    "    \n",
    "    \n",
    "    "
   ]
  },
  {
   "cell_type": "code",
   "execution_count": 4,
   "metadata": {},
   "outputs": [],
   "source": [
    "import pandas as pd"
   ]
  },
  {
   "cell_type": "code",
   "execution_count": 5,
   "metadata": {},
   "outputs": [],
   "source": [
    "data = pd.DataFrame(all_data)\n",
    "\n",
    "data = data.sample(frac = 1, random_state = 10).reset_index()"
   ]
  },
  {
   "cell_type": "code",
   "execution_count": 6,
   "metadata": {},
   "outputs": [],
   "source": [
    "import numpy as np\n",
    "def train_validate_test_split(df, train_percent=.75, validate_percent=.10, seed=10):\n",
    "    np.random.seed(seed)\n",
    "    perm = np.random.permutation(df.index)\n",
    "    m = len(df.index)\n",
    "    train_end = int(train_percent * m)\n",
    "    validate_end = int(validate_percent * m) + train_end\n",
    "    train = df.iloc[perm[:train_end]]\n",
    "    validate = df.iloc[perm[train_end:validate_end]]\n",
    "    test = df.iloc[perm[validate_end:]]\n",
    "    return train, validate, test"
   ]
  },
  {
   "cell_type": "code",
   "execution_count": 7,
   "metadata": {},
   "outputs": [],
   "source": [
    "train, dev, test = train_validate_test_split(data)"
   ]
  },
  {
   "cell_type": "code",
   "execution_count": 8,
   "metadata": {},
   "outputs": [
    {
     "data": {
      "text/plain": [
       "(7500, 1000, 1500)"
      ]
     },
     "execution_count": 8,
     "metadata": {},
     "output_type": "execute_result"
    }
   ],
   "source": [
    "len(train), len(dev),len(test)"
   ]
  },
  {
   "cell_type": "code",
   "execution_count": 9,
   "metadata": {},
   "outputs": [
    {
     "data": {
      "text/plain": [
       "((array([0, 1]), array([3739, 3761])),\n",
       " (array([0, 1]), array([521, 479])),\n",
       " (array([0, 1]), array([740, 760])))"
      ]
     },
     "execution_count": 9,
     "metadata": {},
     "output_type": "execute_result"
    }
   ],
   "source": [
    "np.unique(train.label.values, return_counts = True), np.unique(dev.label.values, return_counts = True), np.unique(test.label.values, return_counts = True)"
   ]
  },
  {
   "cell_type": "code",
   "execution_count": 10,
   "metadata": {},
   "outputs": [],
   "source": [
    "!rm data/*"
   ]
  },
  {
   "cell_type": "code",
   "execution_count": 11,
   "metadata": {},
   "outputs": [
    {
     "name": "stderr",
     "output_type": "stream",
     "text": [
      "<ipython-input-11-e2cc57c35577>:1: SettingWithCopyWarning: \n",
      "A value is trying to be set on a copy of a slice from a DataFrame.\n",
      "Try using .loc[row_indexer,col_indexer] = value instead\n",
      "\n",
      "See the caveats in the documentation: https://pandas.pydata.org/pandas-docs/stable/user_guide/indexing.html#returning-a-view-versus-a-copy\n",
      "  train[\"exp_split\"] = \"train\"\n",
      "<ipython-input-11-e2cc57c35577>:2: SettingWithCopyWarning: \n",
      "A value is trying to be set on a copy of a slice from a DataFrame.\n",
      "Try using .loc[row_indexer,col_indexer] = value instead\n",
      "\n",
      "See the caveats in the documentation: https://pandas.pydata.org/pandas-docs/stable/user_guide/indexing.html#returning-a-view-versus-a-copy\n",
      "  dev[\"exp_split\"] = \"dev\"\n",
      "<ipython-input-11-e2cc57c35577>:3: SettingWithCopyWarning: \n",
      "A value is trying to be set on a copy of a slice from a DataFrame.\n",
      "Try using .loc[row_indexer,col_indexer] = value instead\n",
      "\n",
      "See the caveats in the documentation: https://pandas.pydata.org/pandas-docs/stable/user_guide/indexing.html#returning-a-view-versus-a-copy\n",
      "  test[\"exp_split\"] = \"test\"\n"
     ]
    }
   ],
   "source": [
    "train[\"exp_split\"] = \"train\"\n",
    "dev[\"exp_split\"] = \"dev\"\n",
    "test[\"exp_split\"] = \"test\"\n",
    "\n",
    "import os\n",
    "os.makedirs('data', exist_ok=True)\n",
    "train.drop(columns = \"index\").to_csv(\"data/train.csv\", index = False)\n",
    "dev.drop(columns = \"index\").to_csv(\"data/dev.csv\", index = False)\n",
    "test.drop(columns = \"index\").to_csv(\"data/test.csv\", index = False)"
   ]
  }
 ],
 "metadata": {
  "kernelspec": {
   "display_name": "Python 3",
   "language": "python",
   "name": "python3"
  },
  "language_info": {
   "codemirror_mode": {
    "name": "ipython",
    "version": 3
   },
   "file_extension": ".py",
   "mimetype": "text/x-python",
   "name": "python",
   "nbconvert_exporter": "python",
   "pygments_lexer": "ipython3",
   "version": "3.8.3"
  }
 },
 "nbformat": 4,
 "nbformat_minor": 4
}
