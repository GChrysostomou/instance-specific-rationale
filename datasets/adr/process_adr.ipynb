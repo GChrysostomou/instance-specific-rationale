{
 "cells": [
  {
   "cell_type": "code",
   "execution_count": 1,
   "metadata": {},
   "outputs": [],
   "source": [
    "import pandas as pd\n",
    "import sys\n",
    "sys.path.append(\"..\")\n",
    "from tqdm import tqdm_notebook"
   ]
  },
  {
   "cell_type": "code",
   "execution_count": 2,
   "metadata": {},
   "outputs": [],
   "source": [
    "data = pd.read_csv('adr_dataset_split.csv', sep = \",\")\n",
    "\n",
    "assert min([len(x) for x in data.values]) == max([len(x) for x in data.values])"
   ]
  },
  {
   "cell_type": "code",
   "execution_count": 3,
   "metadata": {},
   "outputs": [],
   "source": [
    "data[\"label_id\"] = data.label.apply(lambda x : \"adverse\" if x == 1 else \"non-adverse\")"
   ]
  },
  {
   "cell_type": "code",
   "execution_count": 4,
   "metadata": {},
   "outputs": [
    {
     "name": "stderr",
     "output_type": "stream",
     "text": [
      "<ipython-input-4-37eab8d4a38f>:5: SettingWithCopyWarning: \n",
      "A value is trying to be set on a copy of a slice from a DataFrame.\n",
      "Try using .loc[row_indexer,col_indexer] = value instead\n",
      "\n",
      "See the caveats in the documentation: https://pandas.pydata.org/pandas-docs/stable/user_guide/indexing.html#returning-a-view-versus-a-copy\n",
      "  train[\"annotation_id\"] = list(range(len(train)))\n",
      "<ipython-input-4-37eab8d4a38f>:6: SettingWithCopyWarning: \n",
      "A value is trying to be set on a copy of a slice from a DataFrame.\n",
      "Try using .loc[row_indexer,col_indexer] = value instead\n",
      "\n",
      "See the caveats in the documentation: https://pandas.pydata.org/pandas-docs/stable/user_guide/indexing.html#returning-a-view-versus-a-copy\n",
      "  train[\"annotation_id\"] = train.annotation_id.apply(lambda x: \"train_\" + str(x))\n",
      "<ipython-input-4-37eab8d4a38f>:10: SettingWithCopyWarning: \n",
      "A value is trying to be set on a copy of a slice from a DataFrame.\n",
      "Try using .loc[row_indexer,col_indexer] = value instead\n",
      "\n",
      "See the caveats in the documentation: https://pandas.pydata.org/pandas-docs/stable/user_guide/indexing.html#returning-a-view-versus-a-copy\n",
      "  dev[\"annotation_id\"] = list(range(len(dev)))\n",
      "<ipython-input-4-37eab8d4a38f>:11: SettingWithCopyWarning: \n",
      "A value is trying to be set on a copy of a slice from a DataFrame.\n",
      "Try using .loc[row_indexer,col_indexer] = value instead\n",
      "\n",
      "See the caveats in the documentation: https://pandas.pydata.org/pandas-docs/stable/user_guide/indexing.html#returning-a-view-versus-a-copy\n",
      "  dev[\"annotation_id\"] = dev.annotation_id.apply(lambda x: \"dev_\" + str(x))\n",
      "<ipython-input-4-37eab8d4a38f>:15: SettingWithCopyWarning: \n",
      "A value is trying to be set on a copy of a slice from a DataFrame.\n",
      "Try using .loc[row_indexer,col_indexer] = value instead\n",
      "\n",
      "See the caveats in the documentation: https://pandas.pydata.org/pandas-docs/stable/user_guide/indexing.html#returning-a-view-versus-a-copy\n",
      "  test[\"annotation_id\"] = list(range(len(test)))\n",
      "<ipython-input-4-37eab8d4a38f>:16: SettingWithCopyWarning: \n",
      "A value is trying to be set on a copy of a slice from a DataFrame.\n",
      "Try using .loc[row_indexer,col_indexer] = value instead\n",
      "\n",
      "See the caveats in the documentation: https://pandas.pydata.org/pandas-docs/stable/user_guide/indexing.html#returning-a-view-versus-a-copy\n",
      "  test[\"annotation_id\"] = test.annotation_id.apply(lambda x: \"test_\" + str(x))\n"
     ]
    }
   ],
   "source": [
    "import os\n",
    "os.makedirs('data', exist_ok=True)\n",
    "\n",
    "train = data[data.exp_split == \"train\"]\n",
    "train[\"annotation_id\"] = list(range(len(train)))\n",
    "train[\"annotation_id\"] = train.annotation_id.apply(lambda x: \"train_\" + str(x))\n",
    "train.to_csv(\"data/train.csv\", index = False)\n",
    "\n",
    "dev = data[data.exp_split == \"dev\"]\n",
    "dev[\"annotation_id\"] = list(range(len(dev)))\n",
    "dev[\"annotation_id\"] = dev.annotation_id.apply(lambda x: \"dev_\" + str(x))\n",
    "dev.to_csv(\"data/dev.csv\", index = False)\n",
    "\n",
    "test = data[data.exp_split == \"test\"]\n",
    "test[\"annotation_id\"] = list(range(len(test)))\n",
    "test[\"annotation_id\"] = test.annotation_id.apply(lambda x: \"test_\" + str(x))\n",
    "test.to_csv(\"data/test.csv\", index = False)"
   ]
  }
 ],
 "metadata": {
  "kernelspec": {
   "display_name": "Python 3",
   "language": "python",
   "name": "python3"
  },
  "language_info": {
   "codemirror_mode": {
    "name": "ipython",
    "version": 3
   },
   "file_extension": ".py",
   "mimetype": "text/x-python",
   "name": "python",
   "nbconvert_exporter": "python",
   "pygments_lexer": "ipython3",
   "version": "3.8.3"
  }
 },
 "nbformat": 4,
 "nbformat_minor": 2
}
