{
 "cells": [
  {
   "cell_type": "code",
   "execution_count": null,
   "metadata": {},
   "outputs": [],
   "source": [
    "!wget http://www.eraserbenchmark.com/zipped/movies.tar.gz\n",
    "!tar -xzf movies.tar.gz\n",
    "!mv movies/val.jsonl movies/dev.jsonl"
   ]
  },
  {
   "cell_type": "code",
   "execution_count": null,
   "metadata": {},
   "outputs": [],
   "source": [
    "import json\n",
    "from Datasets.utils import load_flattened_documents\n",
    "documents = load_flattened_documents('movies', docids=None)\n",
    "def read_annotations(json_file) :\n",
    "    anns = [json.loads(line) for line in open(json_file)]\n",
    "    for a in anns :\n",
    "        doc_id = a['annotation_id']\n",
    "        a['document'] = \" \".join(documents[doc_id])\n",
    "        a['label'] = a['classification']\n",
    "        del a['classification']\n",
    "        a['rationale'] = []\n",
    "        for evgroup in a['evidences'] :\n",
    "            for ev in evgroup :\n",
    "                assert ev['docid'] == doc_id\n",
    "                a['rationale'].append((ev['start_token'], ev['end_token']))\n",
    "        del a['evidences']\n",
    "        del a['query_type']\n",
    "        del a['query']\n",
    "        \n",
    "    return anns"
   ]
  },
  {
   "cell_type": "code",
   "execution_count": null,
   "metadata": {},
   "outputs": [],
   "source": [
    "import os\n",
    "os.makedirs('data/', exist_ok=True)"
   ]
  },
  {
   "cell_type": "code",
   "execution_count": null,
   "metadata": {},
   "outputs": [],
   "source": [
    "for key in ['train', 'dev', 'test'] :\n",
    "    ann = read_annotations('movies/' + key + '.jsonl')\n",
    "    with open('data/' + key + '.jsonl', 'w') as f :\n",
    "        f.write('\\n'.join([json.dumps(line) for line in ann]))"
   ]
  },
  {
   "cell_type": "code",
   "execution_count": null,
   "metadata": {},
   "outputs": [],
   "source": []
  }
 ],
 "metadata": {
  "kernelspec": {
   "display_name": "Python 3",
   "language": "python",
   "name": "python3"
  },
  "language_info": {
   "codemirror_mode": {
    "name": "ipython",
    "version": 3
   },
   "file_extension": ".py",
   "mimetype": "text/x-python",
   "name": "python",
   "nbconvert_exporter": "python",
   "pygments_lexer": "ipython3",
   "version": "3.8.2"
  }
 },
 "nbformat": 4,
 "nbformat_minor": 4
}
