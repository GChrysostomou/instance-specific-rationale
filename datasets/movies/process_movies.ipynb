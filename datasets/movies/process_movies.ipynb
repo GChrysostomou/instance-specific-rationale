{
 "cells": [
  {
   "cell_type": "code",
   "execution_count": null,
   "metadata": {},
   "outputs": [],
   "source": [
    "!wget http://www.eraserbenchmark.com/zipped/movies.tar.gz\n",
    "!tar -xzf movies.tar.gz\n",
    "!mv movies/val.jsonl movies/dev.jsonl"
   ]
  },
  {
   "cell_type": "code",
   "execution_count": null,
   "metadata": {},
   "outputs": [],
   "source": [
    "import sys\n",
    "sys.path.append(\"../\")\n",
    "import json\n",
    "from utils import load_flattened_documents\n",
    "documents = load_flattened_documents('movies', docids=None)\n",
    "def read_annotations(json_file, exp_split) :\n",
    "    anns = [json.loads(line) for line in open(json_file)]\n",
    "    for i, a in enumerate(anns) :\n",
    "      \n",
    "        doc_id = a['annotation_id']\n",
    "        a[\"doc_id\"] = doc_id\n",
    "        a[\"annotation_id\"] = exp_split + \"_\" + str(i)\n",
    "        a['text'] = \" \".join(documents[doc_id])\n",
    "        a['label_id'] = a['classification']\n",
    "        del a['classification']\n",
    "        a['rationale'] = []\n",
    "        for evgroup in a['evidences'] :\n",
    "            for ev in evgroup :\n",
    "                assert ev['docid'] == doc_id\n",
    "                a['rationale'].append((ev['start_token'], ev['end_token']))\n",
    "        a[\"exp_split\"] = exp_split\n",
    "        del a['evidences']\n",
    "        del a['query_type']\n",
    "        del a['query']\n",
    "        \n",
    "    return anns"
   ]
  },
  {
   "cell_type": "code",
   "execution_count": null,
   "metadata": {},
   "outputs": [],
   "source": [
    "import os\n",
    "os.makedirs('data/', exist_ok=True)"
   ]
  },
  {
   "cell_type": "code",
   "execution_count": null,
   "metadata": {},
   "outputs": [],
   "source": [
    "import pandas as pd\n",
    "for key in ['train','dev', 'test'] :\n",
    "    \n",
    "    df = pd.DataFrame(read_annotations(\"movies/\" + key + \".jsonl\", key))\n",
    "    \n",
    "    df[\"label\"] = df.label_id.apply(lambda x : 0 if x == \"NEG\" else 1)\n",
    "    \n",
    "    df.to_csv(\"data/\" + key + \".csv\", index = False)\n",
    "    "
   ]
  },
  {
   "cell_type": "code",
   "execution_count": null,
   "metadata": {},
   "outputs": [],
   "source": [
    "df"
   ]
  }
 ],
 "metadata": {
  "kernelspec": {
   "display_name": "tasc_env",
   "language": "python",
   "name": "tasc_env"
  },
  "language_info": {
   "codemirror_mode": {
    "name": "ipython",
    "version": 3
   },
   "file_extension": ".py",
   "mimetype": "text/x-python",
   "name": "python",
   "nbconvert_exporter": "python",
   "pygments_lexer": "ipython3",
   "version": "3.6.5"
  }
 },
 "nbformat": 4,
 "nbformat_minor": 4
}
