{
 "cells": [
  {
   "cell_type": "code",
   "execution_count": null,
   "metadata": {},
   "outputs": [
    {
     "ename": "",
     "evalue": "",
     "output_type": "error",
     "traceback": [
      "\u001b[1;31mFailed to start the Kernel. \n",
      "\u001b[1;31mCommand \"python setup.py egg_info\" failed with error code 1 in /tmp/pip-build-m618omnv/argon2-cffi-bindings/. \n",
      "\u001b[1;31mView Jupyter <a href='command:jupyter.viewOutput'>log</a> for further details."
     ]
    }
   ],
   "source": [
    "from pickle import NONE\n",
    "from re import T\n",
    "import pandas as pd\n",
    "import json\n",
    "import glob\n",
    "import os \n",
    "import argparse\n",
    "import logging\n",
    "import numpy as np\n",
    "\n",
    "\n",
    "import datetime\n",
    "import gc"
   ]
  },
  {
   "cell_type": "code",
   "execution_count": null,
   "metadata": {},
   "outputs": [
    {
     "ename": "",
     "evalue": "",
     "output_type": "error",
     "traceback": [
      "\u001b[1;31mFailed to start the Kernel. \n",
      "\u001b[1;31mCommand \"python setup.py egg_info\" failed with error code 1 in /tmp/pip-build-m618omnv/argon2-cffi-bindings/. \n",
      "\u001b[1;31mView Jupyter <a href='command:jupyter.viewOutput'>log</a> for further details."
     ]
    }
   ],
   "source": [
    "dataset = 'ChnSentiCorp'\n",
    "model_id = 'bert'\n",
    "model_folder = model_id + '_trained_models/' + dataset + '/'\n",
    "faithful_folder = model_id + '_faithfulness/' + dataset + '/'"
   ]
  },
  {
   "cell_type": "code",
   "execution_count": null,
   "metadata": {},
   "outputs": [
    {
     "ename": "",
     "evalue": "",
     "output_type": "error",
     "traceback": [
      "\u001b[1;31mFailed to start the Kernel. \n",
      "\u001b[1;31mCommand \"python setup.py egg_info\" failed with error code 1 in /tmp/pip-build-m618omnv/argon2-cffi-bindings/. \n",
      "\u001b[1;31mView Jupyter <a href='command:jupyter.viewOutput'>log</a> for further details."
     ]
    }
   ],
   "source": [
    "file_path = f'{faithful_folder}/topk-faithfulness-scores-average-description.json'\n",
    "topk = pd.read_json(file_path, orient ='index')\n",
    "topk.rename(columns = {'AOPC - sufficiency':'AOPC_sufficiency', 'AOPC - comprehensiveness':'AOPC_comprehensiveness'}, inplace = True)\n"
   ]
  },
  {
   "cell_type": "code",
   "execution_count": null,
   "metadata": {},
   "outputs": [
    {
     "ename": "",
     "evalue": "",
     "output_type": "error",
     "traceback": [
      "\u001b[1;31mFailed to start the Kernel. \n",
      "\u001b[1;31mCommand \"python setup.py egg_info\" failed with error code 1 in /tmp/pip-build-m618omnv/argon2-cffi-bindings/. \n",
      "\u001b[1;31mView Jupyter <a href='command:jupyter.viewOutput'>log</a> for further details."
     ]
    }
   ],
   "source": [
    "topk"
   ]
  },
  {
   "cell_type": "code",
   "execution_count": null,
   "metadata": {},
   "outputs": [
    {
     "ename": "",
     "evalue": "",
     "output_type": "error",
     "traceback": [
      "\u001b[1;31mFailed to start the Kernel. \n",
      "\u001b[1;31mCommand \"python setup.py egg_info\" failed with error code 1 in /tmp/pip-build-m618omnv/argon2-cffi-bindings/. \n",
      "\u001b[1;31mView Jupyter <a href='command:jupyter.viewOutput'>log</a> for further details."
     ]
    }
   ],
   "source": [
    "suff = []\n",
    "comp = []\n",
    "suff_std = []\n",
    "comp_std = []\n",
    "fea_list = ['random', 'attention', \"scaled attention\", \"gradients\", \"ig\", \"deeplift\"] #\"gradientshap\", \n",
    "for feat in fea_list:\n",
    "        suff.append(topk.AOPC_sufficiency[str(feat)].get('mean'))\n",
    "        comp.append(topk.AOPC_comprehensiveness[str(feat)].get('mean'))\n",
    "        \n",
    "        suff_std.append(topk.AOPC_sufficiency[str(feat)].get('std'))\n",
    "        comp_std.append(topk.AOPC_comprehensiveness[str(feat)].get('std'))\n"
   ]
  },
  {
   "cell_type": "code",
   "execution_count": null,
   "metadata": {},
   "outputs": [
    {
     "ename": "",
     "evalue": "",
     "output_type": "error",
     "traceback": [
      "\u001b[1;31mFailed to start the Kernel. \n",
      "\u001b[1;31mCommand \"python setup.py egg_info\" failed with error code 1 in /tmp/pip-build-m618omnv/argon2-cffi-bindings/. \n",
      "\u001b[1;31mView Jupyter <a href='command:jupyter.viewOutput'>log</a> for further details."
     ]
    }
   ],
   "source": [
    "\n",
    "fea_list = ['Random', 'Attention', \"Scaled Attention\", \"Gradients\", \"Integrated Gradients\", \"Deeplift\"]\n",
    "final_df = pd.DataFrame(list(zip(fea_list, suff, suff_std, comp, comp_std)),\n",
    "        columns =['Feature','AOPC NormSuff', 'std', 'AOPC NormComp', 'std'])\n",
    "final_df['Dataset'] = str(dataset)"
   ]
  },
  {
   "cell_type": "code",
   "execution_count": null,
   "metadata": {},
   "outputs": [
    {
     "ename": "",
     "evalue": "",
     "output_type": "error",
     "traceback": [
      "\u001b[1;31mFailed to start the Kernel. \n",
      "\u001b[1;31mCommand \"python setup.py egg_info\" failed with error code 1 in /tmp/pip-build-m618omnv/argon2-cffi-bindings/. \n",
      "\u001b[1;31mView Jupyter <a href='command:jupyter.viewOutput'>log</a> for further details."
     ]
    }
   ],
   "source": [
    "df = final_df.T\n",
    "df = df.rename(columns=df.iloc[0]).drop(df.index[0])\n"
   ]
  },
  {
   "cell_type": "code",
   "execution_count": null,
   "metadata": {},
   "outputs": [
    {
     "ename": "",
     "evalue": "",
     "output_type": "error",
     "traceback": [
      "\u001b[1;31mFailed to start the Kernel. \n",
      "\u001b[1;31mCommand \"python setup.py egg_info\" failed with error code 1 in /tmp/pip-build-m618omnv/argon2-cffi-bindings/. \n",
      "\u001b[1;31mView Jupyter <a href='command:jupyter.viewOutput'>log</a> for further details."
     ]
    }
   ],
   "source": [
    "df"
   ]
  },
  {
   "cell_type": "code",
   "execution_count": null,
   "metadata": {},
   "outputs": [
    {
     "ename": "",
     "evalue": "",
     "output_type": "error",
     "traceback": [
      "\u001b[1;31mFailed to start the Kernel. \n",
      "\u001b[1;31mCommand \"python setup.py egg_info\" failed with error code 1 in /tmp/pip-build-m618omnv/argon2-cffi-bindings/. \n",
      "\u001b[1;31mView Jupyter <a href='command:jupyter.viewOutput'>log</a> for further details."
     ]
    }
   ],
   "source": [
    "df['Attention'] = df['Attention']/df['Random']\n",
    "# df['Scaled Attention'] = df['Scaled Attention']/df['Random']\n",
    "# df['Gradients'] = df['Gradients']/df['Random']\n",
    "# df['Integrated Gradients'] = df['Integrated Gradients']/df['Random']\n",
    "# df['Deeplift'] = df['Deeplift']/df['Random']"
   ]
  },
  {
   "cell_type": "code",
   "execution_count": null,
   "metadata": {},
   "outputs": [
    {
     "ename": "",
     "evalue": "",
     "output_type": "error",
     "traceback": [
      "\u001b[1;31mFailed to start the Kernel. \n",
      "\u001b[1;31mCommand \"python setup.py egg_info\" failed with error code 1 in /tmp/pip-build-m618omnv/argon2-cffi-bindings/. \n",
      "\u001b[1;31mView Jupyter <a href='command:jupyter.viewOutput'>log</a> for further details."
     ]
    }
   ],
   "source": [
    "def generate_csv(dataset, method, normal, std):\n",
    "    file_path = f'./posthoc_results/{dataset}/topk-faithfulness-scores-average-description.json'\n",
    "    topk = pd.read_json(file_path, orient ='index')\n",
    "    topk.rename(columns = {'AOPC - sufficiency':'AOPC_sufficiency', 'AOPC - comprehensiveness':'AOPC_comprehensiveness'}, inplace = True)\n",
    "\n",
    "    file_path = f'./posthoc_results/{dataset}/{method}-faithfulness-scores-normal_{normal}.json'\n",
    "    soft = pd.read_json(file_path, orient ='index')\n",
    "    soft.rename(columns = {'sufficiencies @ 1.0':'SoftSuff', 'comprehensiveness @ 1.0':'SoftComp'}, inplace = True)\n",
    "    \n",
    "    suff = []\n",
    "    comp = []\n",
    "    soft_suff = []\n",
    "    soft_comp = []\n",
    "    suff_std = []\n",
    "    comp_std = []\n",
    "    soft_suff_std = []\n",
    "    soft_comp_std = []\n",
    "\n",
    "\n",
    "    fea_list = ['random', 'attention', \"scaled attention\", \"gradients\", \"ig\", \"deeplift\"] #\"gradientshap\", \n",
    "    for feat in fea_list:\n",
    "        suff.append(topk.AOPC_sufficiency[str(feat)].get('mean'))\n",
    "        comp.append(topk.AOPC_comprehensiveness[str(feat)].get('mean'))\n",
    "        soft_suff.append(soft.SoftSuff[str(feat)].get('mean'))\n",
    "        soft_comp.append(soft.SoftComp[str(feat)].get('mean'))\n",
    "\n",
    "        suff_std.append(topk.AOPC_sufficiency[str(feat)].get('std'))\n",
    "        comp_std.append(topk.AOPC_comprehensiveness[str(feat)].get('std'))\n",
    "        soft_suff_std.append(soft.SoftSuff[str(feat)].get('std'))\n",
    "        soft_comp_std.append(soft.SoftComp[str(feat)].get('std'))\n",
    "\n",
    "\n",
    "    # if method != 'topk':\n",
    "    #     random_suff = df.sufficiency['random'].get('mean')\n",
    "    #     random_comp = df.comprehensiveness['random'].get('mean')\n",
    "        \n",
    "    #     Suff_ratio = [x / random_suff for x in sufficiency_mean]\n",
    "    #     Comp_ratio = [x / random_comp for x in comprehensiveness_mean]\n",
    "\n",
    "    #     final_df = pd.DataFrame(list(zip(fea_list, sufficiency_mean, Suff_ratio, comprehensiveness_mean, Comp_ratio)),\n",
    "    #             columns =['Feature', 'Soft-NormSuff', 'Suff_ratio', 'Soft_comprehensiveness', 'Comp_ratio'])\n",
    "        \n",
    "    \n",
    "    #     if 'NOISE' in method: final_path = faithful_result + dataset + '/' + str(method) + str(std) +'_faithfulness_result.csv'\n",
    "    #     else: final_path = faithful_result + dataset + '/' + str(method) +'_faithfulness_result.csv'\n",
    "        \n",
    "    #     final_df.to_csv(final_path)\n",
    "    #     print('saved csv: ', final_path)\n",
    "\n",
    "    # else: # not soft, so have aopc\n",
    "    #     random_suff = df.AOPC_sufficiency['random'].get('mean')\n",
    "    #     random_comp = df.AOPC_comprehensiveness['random'].get('mean')\n",
    "\n",
    "    #     Suff_ratio = [x / random_suff for x in sufficiency_mean]\n",
    "    #     Comp_ratio = [x / random_comp for x in comprehensiveness_mean]\n",
    "    fea_list = ['Random', 'Attention', \"Scaled Attention\", \"Gradients\", \"Integrated Gradients\", \"Deeplift\"]\n",
    "\n",
    "    final_df = pd.DataFrame(list(zip(fea_list, soft_suff, soft_suff_std, soft_comp, soft_comp_std, \n",
    "                                        suff, suff_std, comp, comp_std)),\n",
    "            columns =['Feature', 'Soft-NormSuff', 'std', 'Soft-NormComp', 'std', \n",
    "                                ' AOPC NormSuff', 'std', 'AOPC NormComp', 'std'])\n",
    "    final_df['Dataset'] = str(dataset)\n",
    "\n",
    "\n",
    "    return final_df\n",
    "\n",
    "\n",
    "df1 = generate_csv(dataset='sst', method='ZEROOUT', normal=1, std=0.5)\n",
    "df2 = generate_csv(dataset='agnews', method='ZEROOUT', normal=1, std=0.5)\n",
    "#df3 = generate_csv(dataset='multirc', method='ZEROOUT', normal=1, std=0.5)\n",
    "#df4 = generate_csv(dataset='evinf', method='ZEROOUT', normal=1, std=0.5)\n",
    "\n",
    "final_df = pd.concat([df1, df2])\n",
    "final_path = './posthoc_results/faithfulness_result.csv'\n",
    "print('saved csv: ', final_path)\n",
    "final_df.to_csv(final_path)"
   ]
  }
 ],
 "metadata": {
  "kernelspec": {
   "display_name": "eva",
   "language": "python",
   "name": "python3"
  },
  "language_info": {
   "codemirror_mode": {
    "name": "ipython",
    "version": 3
   },
   "file_extension": ".py",
   "mimetype": "text/x-python",
   "name": "python",
   "nbconvert_exporter": "python",
   "pygments_lexer": "ipython3",
   "version": "3.6.8"
  },
  "orig_nbformat": 4
 },
 "nbformat": 4,
 "nbformat_minor": 2
}
